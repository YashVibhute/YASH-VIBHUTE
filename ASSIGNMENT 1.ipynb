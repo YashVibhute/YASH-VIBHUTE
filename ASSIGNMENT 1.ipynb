{
 "cells": [
  {
   "cell_type": "code",
   "execution_count": 1,
   "metadata": {},
   "outputs": [],
   "source": [
    "# ASSIGNMENT 1\n",
    "# BY-DEFAULT FUNCTIONS"
   ]
  },
  {
   "cell_type": "code",
   "execution_count": 25,
   "metadata": {},
   "outputs": [
    {
     "name": "stdout",
     "output_type": "stream",
     "text": [
      "['yash', 1, 1.5, [1, 2, 3]]\n",
      "1.5\n",
      "3\n",
      "['yash', 1, 1.5, [1, 2, 3], 'jay']\n",
      "['yash', 1, 1.5, [1, 2, 3], 'jay']\n",
      "['yash', 1, 1.5, [1, 2, 3], 'jay', 5, 6]\n",
      "['yash', 1, 9, 1.5, [1, 2, 3], 'jay', 5, 6]\n",
      "['yash', 1, 9, [1, 2, 3], 'jay', 5, 6]\n",
      "['yash', 9, [1, 2, 3], 'jay', 5, 6]\n",
      "[6, 5, 'jay', [1, 2, 3], 9, 'yash']\n",
      "[1, 2, 3, 4, 5, 9]\n"
     ]
    }
   ],
   "source": [
    "# LISTS\n",
    "\n",
    "list1 = [\"yash\",1,1.5,[1,2,3]]\n",
    "print(list1)\n",
    "\n",
    "# To print a specific element\n",
    "print(list1[2])\n",
    "\n",
    "# To print a specific element of 4th element list of main list\n",
    "print(list1[3][2])\n",
    "\n",
    "# To Append List\n",
    "list1.append(\"jay\")\n",
    "print(list1)\n",
    "# This adds an element at end of the list\n",
    "\n",
    "# To clear list\n",
    "#list1.clear()\n",
    "#print(list1)\n",
    "# This removes all elements from list\n",
    "\n",
    "# To copy list\n",
    "list1.copy()\n",
    "print(list1)\n",
    "# This copies the list\n",
    "\n",
    "# To count list\n",
    "list1.count(1.5)\n",
    "# This counts the no. of time a element is repeted in the list\n",
    "\n",
    "# To extend list\n",
    "list1.extend([5,6])\n",
    "print(list1)\n",
    "# This add the list of element  to end of current list\n",
    "\n",
    "# To index list\n",
    "list1.index(1.5)\n",
    "# This returns index of given element\n",
    "\n",
    "# To insert list\n",
    "list1.insert(2,9)\n",
    "print(list1)\n",
    "# This inserts the element  to specified position of current list\n",
    "\n",
    "# To pop list\n",
    "list1.pop(3)\n",
    "print(list1)\n",
    "# This pops the element of specified position of current list\n",
    "\n",
    "# To remove list\n",
    "list1.remove(1)\n",
    "print(list1)\n",
    "# This deletes the element of current list\n",
    "\n",
    "# To reverse list\n",
    "list1.reverse()\n",
    "print(list1)\n",
    "# This reverses the elements of current list\n",
    "\n",
    "list2 = [9,5,1,2,3,4]\n",
    "# To sort list\n",
    "list2.sort()\n",
    "print(list2)\n",
    "# This sorts the element of current list"
   ]
  },
  {
   "cell_type": "code",
   "execution_count": 44,
   "metadata": {},
   "outputs": [
    {
     "name": "stdout",
     "output_type": "stream",
     "text": [
      "{'Aishwaryam': 'yash', 'ShreeVihar': 'jay'}\n",
      "{'Aishwaryam': 'yash', 'ShreeVihar': 'jay'}\n"
     ]
    }
   ],
   "source": [
    "# DICTIONARY\n",
    "\n",
    "dict = {\"Aishwaryam\":\"yash\", \"ShreeVihar\":\"jay\"}\n",
    "print(dict)\n",
    "\n",
    "# To clear Dictionary\n",
    "#dict.clear()\n",
    "#print(dict)\n",
    "# This removes all elements from dictionary\n",
    "\n",
    "# To copy Dictionary\n",
    "dict.copy()\n",
    "print(dict)\n",
    "# This copies all elements from dictionary\n",
    "\n",
    "\n"
   ]
  },
  {
   "cell_type": "code",
   "execution_count": 43,
   "metadata": {},
   "outputs": [
    {
     "name": "stdout",
     "output_type": "stream",
     "text": [
      "{1, 4, 'a', 'c', 23}\n"
     ]
    }
   ],
   "source": [
    "# Sets\n",
    "\n",
    "st={1,23,'a',4,'c'}\n",
    "print(st)\n"
   ]
  },
  {
   "cell_type": "code",
   "execution_count": 45,
   "metadata": {},
   "outputs": [],
   "source": [
    "# Please note many of the functions are still confusing regarding Dictionary please just give an theory explationation for the same"
   ]
  },
  {
   "cell_type": "code",
   "execution_count": null,
   "metadata": {},
   "outputs": [],
   "source": []
  }
 ],
 "metadata": {
  "kernelspec": {
   "display_name": "Python 3",
   "language": "python",
   "name": "python3"
  },
  "language_info": {
   "codemirror_mode": {
    "name": "ipython",
    "version": 3
   },
   "file_extension": ".py",
   "mimetype": "text/x-python",
   "name": "python",
   "nbconvert_exporter": "python",
   "pygments_lexer": "ipython3",
   "version": "3.7.6"
  }
 },
 "nbformat": 4,
 "nbformat_minor": 4
}
